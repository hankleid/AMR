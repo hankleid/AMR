{
 "cells": [
  {
   "cell_type": "code",
   "execution_count": 1,
   "metadata": {},
   "outputs": [
    {
     "name": "stderr",
     "output_type": "stream",
     "text": [
      "In C:\\Users\\hanna\\Anaconda3\\lib\\site-packages\\matplotlib\\mpl-data\\stylelib\\_classic_test.mplstyle: \n",
      "The text.latex.preview rcparam was deprecated in Matplotlib 3.3 and will be removed two minor releases later.\n",
      "In C:\\Users\\hanna\\Anaconda3\\lib\\site-packages\\matplotlib\\mpl-data\\stylelib\\_classic_test.mplstyle: \n",
      "The mathtext.fallback_to_cm rcparam was deprecated in Matplotlib 3.3 and will be removed two minor releases later.\n",
      "In C:\\Users\\hanna\\Anaconda3\\lib\\site-packages\\matplotlib\\mpl-data\\stylelib\\_classic_test.mplstyle: Support for setting the 'mathtext.fallback_to_cm' rcParam is deprecated since 3.3 and will be removed two minor releases later; use 'mathtext.fallback : 'cm' instead.\n",
      "In C:\\Users\\hanna\\Anaconda3\\lib\\site-packages\\matplotlib\\mpl-data\\stylelib\\_classic_test.mplstyle: \n",
      "The validate_bool_maybe_none function was deprecated in Matplotlib 3.3 and will be removed two minor releases later.\n",
      "In C:\\Users\\hanna\\Anaconda3\\lib\\site-packages\\matplotlib\\mpl-data\\stylelib\\_classic_test.mplstyle: \n",
      "The savefig.jpeg_quality rcparam was deprecated in Matplotlib 3.3 and will be removed two minor releases later.\n",
      "In C:\\Users\\hanna\\Anaconda3\\lib\\site-packages\\matplotlib\\mpl-data\\stylelib\\_classic_test.mplstyle: \n",
      "The keymap.all_axes rcparam was deprecated in Matplotlib 3.3 and will be removed two minor releases later.\n",
      "In C:\\Users\\hanna\\Anaconda3\\lib\\site-packages\\matplotlib\\mpl-data\\stylelib\\_classic_test.mplstyle: \n",
      "The animation.avconv_path rcparam was deprecated in Matplotlib 3.3 and will be removed two minor releases later.\n",
      "In C:\\Users\\hanna\\Anaconda3\\lib\\site-packages\\matplotlib\\mpl-data\\stylelib\\_classic_test.mplstyle: \n",
      "The animation.avconv_args rcparam was deprecated in Matplotlib 3.3 and will be removed two minor releases later.\n"
     ]
    }
   ],
   "source": [
    "from nptdms import TdmsFile\n",
    "import numpy as np\n",
    "from matplotlib import pyplot as plt\n",
    "import pandas as pd"
   ]
  },
  {
   "cell_type": "code",
   "execution_count": 2,
   "metadata": {},
   "outputs": [],
   "source": [
    "file = TdmsFile.read(\"210408091951_JH253-Py_Ta_8nm_Py_4nm_E6_AMR_Result.tdms\")\n",
    "data = file['Raw Data'].as_dataframe()\n",
    "# Field: 900 - 100 mT  (20 steps)\n",
    "# Current: 3, 2.5, 2, 1.5, 1 mA\n",
    "# angle stepsize: 9 deg\n",
    "# Wait time: 1s\n",
    "# AC Gain:  12dB\n",
    "# Complaince:  6V \n",
    "# DAQ_V: 1 V at 3mA\n",
    "# Input FET: FET"
   ]
  },
  {
   "cell_type": "code",
   "execution_count": 3,
   "metadata": {},
   "outputs": [
    {
     "data": {
      "image/png": "[encoded data removed]",
      "text/plain": [
       "<Figure size 432x288 with 1 Axes>"
      ]
     },
     "metadata": {
      "needs_background": "light"
     },
     "output_type": "display_data"
    }
   ],
   "source": [
    "_900mT_3mA = data[(data[\"B (mT)\"] == 900.0) & (data[\"I (A)\"] == 0.003)]\n",
    "plt.plot(_900mT_3mA[\"Angle (deg)\"], _900mT_3mA[\"Y2w (V)\"]-_900mT_3mA[\"Y2w (V)\"].mean(), 'o', label=\"900mT\")\n",
    "\n",
    "_100mT_3mA = data[(data[\"B (mT)\"] == 100.0) & (data[\"I (A)\"] == 0.003)]\n",
    "plt.plot(_100mT_3mA[\"Angle (deg)\"], _100mT_3mA[\"Y2w (V)\"]-_100mT_3mA[\"Y2w (V)\"].mean(), 'o', label=\"100mT\")\n",
    "plt.title(\"Low current (1mA)\")\n",
    "plt.xlabel(\"Angle\")\n",
    "plt.ylabel(\"Y2w (V)\")\n",
    "plt.legend()\n",
    "#plt.savefig(\"210402100243_JH167_Pt_8nm_Py_4nm_F6_MR/2nd_Harmonic_Plot\", dpi=200, facecolor='w', edgecolor='w', orientation='portrait')\n",
    "plt.show()"
   ]
  }
 ],
 "metadata": {
  "kernelspec": {
   "display_name": "Python 3",
   "language": "python",
   "name": "python3"
  },
  "language_info": {
   "codemirror_mode": {
    "name": "ipython",
    "version": 3
   },
   "file_extension": ".py",
   "mimetype": "text/x-python",
   "name": "python",
   "nbconvert_exporter": "python",
   "pygments_lexer": "ipython3",
   "version": "3.7.4"
  }
 },
 "nbformat": 4,
 "nbformat_minor": 2
}
